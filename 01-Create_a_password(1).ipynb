{
  "cells": [
    {
      "cell_type": "markdown",
      "metadata": {
        "colab_type": "text",
        "id": "FY347VxWs_bJ"
      },
      "source": [
        "# Create a password\n",
        "\n",
        "---\n",
        "\n",
        "\n"
      ]
    },
    {
      "cell_type": "markdown",
      "metadata": {
        "colab_type": "text",
        "id": "tNmCNKUa0c9-"
      },
      "source": [
        "We would like to create a password for JEDHA\n",
        "\n",
        "    1. Using a WHILE loop, find a way to create a very simple authentication script"
      ]
    },
    {
      "cell_type": "code",
      "execution_count": 148,
      "metadata": {
        "colab": {
          "base_uri": "https://localhost:8080/",
          "height": 35
        },
        "colab_type": "code",
        "id": "adKPQe1Hsi2g",
        "outputId": "11b3e356-10d5-47b0-edae-1e566ea77bb3"
      },
      "outputs": [
        {
          "name": "stdout",
          "output_type": "stream",
          "text": [
            "MypassWord\n",
            "<class 'str'>\n"
          ]
        }
      ],
      "source": [
        "input_user = input('Please enter your password')\n",
        "print(input_user)\n",
        "print(type(input_user))"
      ]
    },
    {
      "cell_type": "code",
      "execution_count": 151,
      "metadata": {},
      "outputs": [
        {
          "data": {
            "text/plain": [
              "'MypassWord'"
            ]
          },
          "execution_count": 151,
          "metadata": {},
          "output_type": "execute_result"
        }
      ],
      "source": [
        "input_user"
      ]
    },
    {
      "cell_type": "code",
      "execution_count": 150,
      "metadata": {
        "colab": {},
        "colab_type": "code",
        "id": "LV_ACPSXs3pg"
      },
      "outputs": [
        {
          "data": {
            "text/plain": [
              "'M'"
            ]
          },
          "execution_count": 150,
          "metadata": {},
          "output_type": "execute_result"
        }
      ],
      "source": [
        "input_user[0]"
      ]
    },
    {
      "cell_type": "code",
      "execution_count": 152,
      "metadata": {},
      "outputs": [
        {
          "name": "stdout",
          "output_type": "stream",
          "text": [
            "M\n",
            "y\n",
            "p\n",
            "a\n",
            "s\n",
            "s\n",
            "W\n",
            "o\n",
            "r\n",
            "d\n"
          ]
        }
      ],
      "source": [
        "for letter in input_user:\n",
        "    print(letter)"
      ]
    },
    {
      "cell_type": "code",
      "execution_count": 183,
      "metadata": {},
      "outputs": [
        {
          "name": "stdout",
          "output_type": "stream",
          "text": [
            "Wrong Password\n",
            "Tentatives restantes : 2\n",
            "Wrong Password\n",
            "Tentatives restantes : 1\n",
            "Wrong Password\n",
            "Tentatives restantes : 0\n",
            "Connexion denied\n"
          ]
        }
      ],
      "source": [
        "input_user = input('Please enter your password')\n",
        "\n",
        "tentative = 3\n",
        "\n",
        "while input_user != '0000' and tentative > 0:\n",
        "\n",
        "    if input_user == 'exit':\n",
        "        break\n",
        "\n",
        "    try:\n",
        "        int(input_user)\n",
        "        print('Wrong Password')\n",
        "        input_user = input('Please enter your password')\n",
        "        \n",
        "    except:\n",
        "        print('Wrong input, please entre numbers')\n",
        "        input_user = input('Please enter your password')\n",
        "\n",
        "    tentative -=1\n",
        "    print('Tentatives restantes : {}'.format(tentative))\n",
        "\n",
        "\n",
        "if input_user == '0000':\n",
        "    print('Good Password')\n",
        "else:\n",
        "    print('Connexion denied')"
      ]
    },
    {
      "cell_type": "code",
      "execution_count": 169,
      "metadata": {},
      "outputs": [
        {
          "name": "stdout",
          "output_type": "stream",
          "text": [
            "Warning : division by zero\n",
            "True\n"
          ]
        }
      ],
      "source": [
        "try:\n",
        "    7/0\n",
        "    print('Test try')\n",
        "    int('P')\n",
        "\n",
        "except ValueError:\n",
        "    print('Wrong input, please entre numbers')\n",
        "\n",
        "except ZeroDivisionError:\n",
        "    print('Warning : division by zero')\n",
        "\n",
        "\n",
        "print(True)\n"
      ]
    },
    {
      "cell_type": "code",
      "execution_count": null,
      "metadata": {},
      "outputs": [],
      "source": [
        "input()"
      ]
    },
    {
      "cell_type": "code",
      "execution_count": 192,
      "metadata": {},
      "outputs": [],
      "source": [
        "def input_code_pin_user(password:str='0000') -> bool:\n",
        "    input_user = input('Please enter your password')\n",
        "\n",
        "    tentative = 3\n",
        "\n",
        "    while input_user != password and tentative > 0:\n",
        "\n",
        "        if input_user == 'exit':\n",
        "            return False\n",
        "\n",
        "        tentative -=1\n",
        "        print('Tentatives restantes : {}'.format(tentative))\n",
        "\n",
        "        try:\n",
        "            int(input_user)\n",
        "            print('Wrong Password')\n",
        "            input_user = input('Please enter your password')\n",
        "            \n",
        "        except:\n",
        "            print('Wrong input, please entre numbers')\n",
        "            input_user = input('Please enter your password')\n",
        "\n",
        "    if input_user == password:\n",
        "        print('Successful connection')\n",
        "        return True\n",
        "    else:\n",
        "        print('Connexion denied')\n",
        "        return False"
      ]
    },
    {
      "cell_type": "code",
      "execution_count": 191,
      "metadata": {},
      "outputs": [
        {
          "name": "stdout",
          "output_type": "stream",
          "text": [
            "Tentatives restantes : 2\n",
            "Wrong input, please entre numbers\n",
            "Tentatives restantes : 1\n",
            "Wrong input, please entre numbers\n",
            "Tentatives restantes : 0\n",
            "Wrong input, please entre numbers\n",
            "Good Password\n"
          ]
        },
        {
          "data": {
            "text/plain": [
              "True"
            ]
          },
          "execution_count": 191,
          "metadata": {},
          "output_type": "execute_result"
        }
      ],
      "source": [
        "input_code_pin_user()"
      ]
    },
    {
      "cell_type": "code",
      "execution_count": 208,
      "metadata": {},
      "outputs": [],
      "source": [
        "def simple(**ooo):\n",
        "    print(ooo)"
      ]
    },
    {
      "cell_type": "code",
      "execution_count": 211,
      "metadata": {},
      "outputs": [
        {
          "name": "stdout",
          "output_type": "stream",
          "text": [
            "{'name': 'Kevin', 'test': 1010}\n"
          ]
        }
      ],
      "source": [
        "simple(name='Kevin', test=1010)"
      ]
    },
    {
      "cell_type": "code",
      "execution_count": null,
      "metadata": {},
      "outputs": [],
      "source": []
    },
    {
      "attachments": {},
      "cell_type": "markdown",
      "metadata": {},
      "source": [
        "# Object-oriented programming"
      ]
    },
    {
      "cell_type": "code",
      "execution_count": 265,
      "metadata": {},
      "outputs": [],
      "source": [
        "class CarElectic:\n",
        "    wheels = 4 \n",
        "    energy = 'oil'\n",
        "    nb_door = 4\n",
        "    nb_place = 4\n",
        "\n",
        "\n",
        "    def driving(self):\n",
        "        print(\"I'm driving !\")\n"
      ]
    },
    {
      "cell_type": "code",
      "execution_count": 267,
      "metadata": {},
      "outputs": [
        {
          "name": "stdout",
          "output_type": "stream",
          "text": [
            "I'm driving !\n"
          ]
        }
      ],
      "source": [
        "voiture1 = CarElectic()\n",
        "voiture1.driving()"
      ]
    },
    {
      "cell_type": "code",
      "execution_count": 231,
      "metadata": {},
      "outputs": [
        {
          "data": {
            "text/plain": [
              "4"
            ]
          },
          "execution_count": 231,
          "metadata": {},
          "output_type": "execute_result"
        }
      ],
      "source": [
        "voiture1.wheels"
      ]
    },
    {
      "cell_type": "code",
      "execution_count": 232,
      "metadata": {},
      "outputs": [
        {
          "data": {
            "text/plain": [
              "'oil'"
            ]
          },
          "execution_count": 232,
          "metadata": {},
          "output_type": "execute_result"
        }
      ],
      "source": [
        "voiture1.energy"
      ]
    },
    {
      "cell_type": "code",
      "execution_count": 233,
      "metadata": {},
      "outputs": [
        {
          "data": {
            "text/plain": [
              "4"
            ]
          },
          "execution_count": 233,
          "metadata": {},
          "output_type": "execute_result"
        }
      ],
      "source": [
        "voiture1.nb_place"
      ]
    },
    {
      "cell_type": "code",
      "execution_count": 234,
      "metadata": {},
      "outputs": [],
      "source": [
        "voiture2 = Voiture()"
      ]
    },
    {
      "cell_type": "code",
      "execution_count": 235,
      "metadata": {},
      "outputs": [
        {
          "data": {
            "text/plain": [
              "'oil'"
            ]
          },
          "execution_count": 235,
          "metadata": {},
          "output_type": "execute_result"
        }
      ],
      "source": [
        "voiture2.energy"
      ]
    },
    {
      "cell_type": "code",
      "execution_count": 236,
      "metadata": {},
      "outputs": [
        {
          "name": "stdout",
          "output_type": "stream",
          "text": [
            "I'm driving !\n"
          ]
        }
      ],
      "source": []
    },
    {
      "cell_type": "code",
      "execution_count": null,
      "metadata": {},
      "outputs": [],
      "source": []
    },
    {
      "cell_type": "code",
      "execution_count": 237,
      "metadata": {},
      "outputs": [
        {
          "data": {
            "text/plain": [
              "'Bonjour 33'"
            ]
          },
          "execution_count": 237,
          "metadata": {},
          "output_type": "execute_result"
        }
      ],
      "source": [
        "    def input_code_pin_user(self, password:str='0000') -> bool:\n",
        "        input_user = input('Please enter your password')\n",
        "\n",
        "        tentative = 3\n",
        "\n",
        "        while input_user != password and tentative > 0:\n",
        "\n",
        "            if input_user == 'exit':\n",
        "                return False\n",
        "\n",
        "            tentative -=1\n",
        "            print('Tentatives restantes : {}'.format(tentative))\n",
        "\n",
        "            try:\n",
        "                int(input_user)\n",
        "                print('Wrong Password')\n",
        "                input_user = input('Please enter your password')\n",
        "                \n",
        "            except:\n",
        "                print('Wrong input, please entre numbers')\n",
        "                input_user = input('Please enter your password')\n",
        "\n",
        "        if input_user == password:\n",
        "            print('Successful connection')\n",
        "            return True\n",
        "        else:\n",
        "            print('Connexion denied')\n",
        "            return False"
      ]
    },
    {
      "cell_type": "code",
      "execution_count": 7,
      "metadata": {},
      "outputs": [],
      "source": [
        "class Voiture:\n",
        "    wheels = 4 \n",
        "    energy = 'oil'\n",
        "    nb_door = 4\n",
        "    nb_place = 4\n",
        "\n",
        "    def __init__(self, brand:str, model:str, distance:float=0, control:bool=True):\n",
        "        self.brand = brand\n",
        "        self.model = model\n",
        "        self.distance = distance\n",
        "        self.control = control\n",
        "\n",
        "\n",
        "    def passenger(self, driver, copilot=None, passenger_1=None, passenger_2=None):\n",
        "        self.driver = driver\n",
        "        self.copilot = copilot\n",
        "        self.passenger1 = passenger_1\n",
        "        self.passenger2 = passenger_2\n",
        "\n",
        "\n",
        "    def input_code_pin_user(self, password:str='0000') -> bool:\n",
        "        input_user = input('Please enter your password')\n",
        "\n",
        "        tentative = 3\n",
        "\n",
        "        while input_user != password and tentative > 0:\n",
        "\n",
        "            if input_user == 'exit':\n",
        "                return False\n",
        "\n",
        "            tentative -=1\n",
        "            print('Tentatives restantes : {}'.format(tentative))\n",
        "\n",
        "            try:\n",
        "                int(input_user)\n",
        "                print('Wrong Password')\n",
        "                input_user = input('Please enter your password')\n",
        "                \n",
        "            except:\n",
        "                print('Wrong input, please entre numbers')\n",
        "                input_user = input('Please enter your password')\n",
        "\n",
        "        if input_user == password:\n",
        "            print('Successful connection')\n",
        "            return True\n",
        "        else:\n",
        "            print('Connexion denied')\n",
        "            return False\n",
        "\n",
        "\n",
        "    def driving(self, depart:str, destination:str, miles:float): \n",
        "        try:\n",
        "            self.driver\n",
        "            if self.input_code_pin_user():            \n",
        "                self.distance += miles\n",
        "                print(\"I'm driving !\", True)\n",
        "\n",
        "                if self.distance > 5000:\n",
        "                    self.control = False\n",
        "\n",
        "        except:\n",
        "            print('There is no driver')"
      ]
    },
    {
      "cell_type": "code",
      "execution_count": 8,
      "metadata": {},
      "outputs": [],
      "source": [
        "voiture3 = Voiture('Renault', 'Clio3')"
      ]
    },
    {
      "cell_type": "code",
      "execution_count": 9,
      "metadata": {},
      "outputs": [],
      "source": [
        "voiture3.passenger('Kevin')"
      ]
    },
    {
      "cell_type": "code",
      "execution_count": 10,
      "metadata": {},
      "outputs": [],
      "source": [
        "voiture3.copilot"
      ]
    },
    {
      "cell_type": "code",
      "execution_count": 11,
      "metadata": {},
      "outputs": [
        {
          "name": "stdout",
          "output_type": "stream",
          "text": [
            "Successful connection\n",
            "I'm driving ! True\n"
          ]
        }
      ],
      "source": [
        "voiture3.driving('Paris', 'Nice', 10000)"
      ]
    },
    {
      "cell_type": "code",
      "execution_count": 310,
      "metadata": {},
      "outputs": [
        {
          "data": {
            "text/plain": [
              "False"
            ]
          },
          "execution_count": 310,
          "metadata": {},
          "output_type": "execute_result"
        }
      ],
      "source": [
        "voiture3.control"
      ]
    },
    {
      "cell_type": "code",
      "execution_count": 314,
      "metadata": {},
      "outputs": [
        {
          "data": {
            "text/plain": [
              "True"
            ]
          },
          "execution_count": 314,
          "metadata": {},
          "output_type": "execute_result"
        }
      ],
      "source": [
        "type('OOO') == str"
      ]
    },
    {
      "cell_type": "code",
      "execution_count": null,
      "metadata": {},
      "outputs": [],
      "source": []
    },
    {
      "cell_type": "code",
      "execution_count": null,
      "metadata": {},
      "outputs": [],
      "source": []
    },
    {
      "cell_type": "code",
      "execution_count": null,
      "metadata": {},
      "outputs": [],
      "source": []
    },
    {
      "cell_type": "code",
      "execution_count": null,
      "metadata": {},
      "outputs": [],
      "source": []
    },
    {
      "cell_type": "code",
      "execution_count": 279,
      "metadata": {},
      "outputs": [
        {
          "data": {
            "text/plain": [
              "'Clio3'"
            ]
          },
          "execution_count": 279,
          "metadata": {},
          "output_type": "execute_result"
        }
      ],
      "source": [
        "voiture3.model"
      ]
    },
    {
      "cell_type": "code",
      "execution_count": 280,
      "metadata": {},
      "outputs": [
        {
          "data": {
            "text/plain": [
              "True"
            ]
          },
          "execution_count": 280,
          "metadata": {},
          "output_type": "execute_result"
        }
      ],
      "source": [
        "voiture3.control"
      ]
    },
    {
      "cell_type": "code",
      "execution_count": 281,
      "metadata": {},
      "outputs": [
        {
          "name": "stdout",
          "output_type": "stream",
          "text": [
            "I'm driving ! True\n"
          ]
        }
      ],
      "source": [
        "voiture3.driving()"
      ]
    },
    {
      "cell_type": "code",
      "execution_count": 282,
      "metadata": {},
      "outputs": [],
      "source": [
        "voiture3.color = 'Black'"
      ]
    },
    {
      "cell_type": "code",
      "execution_count": 283,
      "metadata": {},
      "outputs": [
        {
          "data": {
            "text/plain": [
              "'Black'"
            ]
          },
          "execution_count": 283,
          "metadata": {},
          "output_type": "execute_result"
        }
      ],
      "source": [
        "voiture3.color"
      ]
    },
    {
      "cell_type": "code",
      "execution_count": 284,
      "metadata": {},
      "outputs": [],
      "source": [
        "voiture4 = Voiture('Peugeot', '306', 0, True)"
      ]
    },
    {
      "cell_type": "code",
      "execution_count": null,
      "metadata": {},
      "outputs": [],
      "source": []
    },
    {
      "cell_type": "code",
      "execution_count": null,
      "metadata": {},
      "outputs": [],
      "source": []
    },
    {
      "cell_type": "code",
      "execution_count": null,
      "metadata": {},
      "outputs": [],
      "source": []
    },
    {
      "cell_type": "code",
      "execution_count": null,
      "metadata": {},
      "outputs": [],
      "source": []
    }
  ],
  "metadata": {
    "colab": {
      "name": "Faire un mot de passe -- S1-1A.ipynb",
      "provenance": [],
      "version": "0.3.2"
    },
    "kernelspec": {
      "display_name": "Python 3",
      "language": "python",
      "name": "python3"
    },
    "language_info": {
      "name": "python",
      "version": "3.10.4 (tags/v3.10.4:9d38120, Mar 23 2022, 23:13:41) [MSC v.1929 64 bit (AMD64)]"
    },
    "vscode": {
      "interpreter": {
        "hash": "e2fdb3995b5e9769508e9c991e53b8831e1201db995fae27ff7eac7036df2ba3"
      }
    }
  },
  "nbformat": 4,
  "nbformat_minor": 0
}
